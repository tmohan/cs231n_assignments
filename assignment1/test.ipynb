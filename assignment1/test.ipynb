{
 "cells": [
  {
   "cell_type": "code",
   "execution_count": 37,
   "metadata": {},
   "outputs": [
    {
     "name": "stdout",
     "output_type": "stream",
     "text": [
      "0\n",
      "1\n",
      "2\n",
      "3\n"
     ]
    }
   ],
   "source": [
    "import numpy as np\n",
    "\n",
    "for i in range(4):\n",
    "    print(i)\n",
    "\n",
    "\n",
    "\n",
    "\n",
    "     "
   ]
  },
  {
   "cell_type": "code",
   "execution_count": 13,
   "metadata": {},
   "outputs": [
    {
     "name": "stdout",
     "output_type": "stream",
     "text": [
      "[[100 100 100]\n",
      " [100 100 100]]\n"
     ]
    }
   ],
   "source": [
    "diff = a - b\n",
    "print(diff * diff)\n"
   ]
  },
  {
   "cell_type": "code",
   "execution_count": null,
   "metadata": {},
   "outputs": [],
   "source": [
    "\"\"\"\n",
    "for k1 in k_choices:\n",
    "    accuracies = []\n",
    "\n",
    "    for i, X in enumerate(X_train_folds[:-1]):\n",
    "        classifier = KNearestNeighbor()\n",
    "        print(\"X dim = \" , X.shape)\n",
    "        print(\"Y dim = \" , y_train_folds[i].shape)\n",
    "        print(\"test dim = \", X_train_folds[num_folds-1].shape)\n",
    "        classifier.train(X, y_train_folds[i])\n",
    "        num_test = X.size \n",
    "        y_train_pred = classifier.predict_labels(X_train_folds[num_folds-1], k=k1)\n",
    "        num_correct = np.sum(y_train_folds[num_folds-1] == y_train_pred)\n",
    "        accuracy = float(num_correct) / num_test\n",
    "        accuracies.append(accuracy)\n",
    "    k_to_accuracies[k] = accuracies\n",
    "    \n",
    "    #--------------------------------------\n",
    "for k in k_choices:\n",
    "    for n in range(num_folds):\n",
    "        x_training_dat = X_train_folds[n]\n",
    "        y_training_dat = y_train_folds[n]\n",
    "        print(x_training_dat.shape)\n",
    "        print(y_training_dat.shape)\n",
    "        classifier_k = KNearestNeighbor()\n",
    "        classifier_k.train(x_training_dat, y_training_dat)\n",
    "        y_cross_validation_pred = classifier_k.predict_labels(X_train_folds[n], k)\n",
    "        num_correct = np.sum(y_cross_validation_pred == y_train_folds[n])\n",
    "        accuracy = float(num_correct) / num_test\n",
    "        k_to_accuracies.setdefault(k, []).append(accuracy)\n",
    "       \n",
    "  \"\"\""
   ]
  },
  {
   "cell_type": "code",
   "execution_count": null,
   "metadata": {},
   "outputs": [],
   "source": []
  },
  {
   "cell_type": "code",
   "execution_count": null,
   "metadata": {},
   "outputs": [],
   "source": []
  }
 ],
 "metadata": {
  "kernelspec": {
   "display_name": "Python 3",
   "language": "python",
   "name": "python3"
  },
  "language_info": {
   "codemirror_mode": {
    "name": "ipython",
    "version": 3
   },
   "file_extension": ".py",
   "mimetype": "text/x-python",
   "name": "python",
   "nbconvert_exporter": "python",
   "pygments_lexer": "ipython3",
   "version": "3.6.4"
  }
 },
 "nbformat": 4,
 "nbformat_minor": 2
}
